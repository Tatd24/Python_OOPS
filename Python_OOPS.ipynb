{
  "nbformat": 4,
  "nbformat_minor": 0,
  "metadata": {
    "colab": {
      "provenance": []
    },
    "kernelspec": {
      "name": "python3",
      "display_name": "Python 3"
    },
    "language_info": {
      "name": "python"
    }
  },
  "cells": [
    {
      "cell_type": "markdown",
      "source": [
        "# Python OOPS (Theory)"
      ],
      "metadata": {
        "id": "fqoKbXOw7mNx"
      }
    },
    {
      "cell_type": "markdown",
      "source": [
        " 1. What is Object-Oriented Programming (OOP)?\n",
        "\n",
        "  Ans: Object-Oriented Programming (OOP) is a programming paradigm based on the concept of \"objects\", which can contain data (attributes) and functions (methods) that operate on that data.\n",
        "\n",
        "  Python supports OOP, allowing developers to design programs using classes and objects for better modularity, reusability, and organization"
      ],
      "metadata": {
        "id": "w_g9D_5-7whf"
      }
    },
    {
      "cell_type": "markdown",
      "source": [
        "2. What is a class in OOP?\n",
        "\n",
        "  Ans: A class is a blueprint or template used to create objects in Object-Oriented Programming. It defines:\n",
        "\n",
        "\n",
        "*   Attributes (variables that hold data)\n",
        "*   Methods (functions that define behaviors)\n",
        "\n"
      ],
      "metadata": {
        "id": "mR7Osbcc7wdH"
      }
    },
    {
      "cell_type": "markdown",
      "source": [
        "3. What is an object in OOP?\n",
        "\n",
        "  Ans: An object is an instance of a class.\n",
        "It represents a real-world entity with state (attributes) and behavior (methods). In short-\n",
        "\n",
        "*   A class is like a blueprint. An object is a real product built using that blueprint.\n",
        "\n",
        "\n"
      ],
      "metadata": {
        "id": "COcGmZsj7wZU"
      }
    },
    {
      "cell_type": "markdown",
      "source": [
        "4. What is the difference between abstraction and encapsulation?\n",
        "\n",
        "  Ans: Difference Between Abstraction and Encapsulation in OOP\n",
        "Though both are core principles of Object-Oriented Programming (OOP), abstraction and encapsulation serve different purposes:\n",
        "\n",
        "  **i. Abstraction — Hides Complexity, Shows Essentials**\n",
        "\n",
        "\n",
        "\n",
        "*   Definition: Abstraction means hiding the internal implementation details and showing only the essential features of an object.\n",
        "*   Goal: Simplify complexity and focus on what an object does, not how it does it.\n",
        "\n",
        "*   Achieved by: Using abstract classes, interfaces, or just methods that hide details.\n",
        "*   Example:\n",
        "        class Remote:\n",
        "            def press_power_button(self):\n",
        "                print(\"TV turned ON/OFF\")  # Abstracts internal circuits and IR signals\n",
        "\n",
        "  **ii. Encapsulation — Protects Data Inside a Shell**\n",
        "\n",
        "\n",
        "*   Definition: Encapsulation means bundling data and methods into a single unit (a class), and restricting direct access to some of the object's components.\n",
        "*   Goal: Protect data and maintain control over it.\n",
        "\n",
        "\n",
        "\n",
        "*   Achieved by: Using access modifiers (private, protected, public) and getter/setter methods.\n",
        "*   Example\n",
        "\n",
        "          class BankAccount:\n",
        "             def __init__(self):\n",
        "                  self.__balance = 0   # private variable\n",
        "\n",
        "             def deposit(self, amount):\n",
        "                 if amount > 0:\n",
        "                    self.__balance += amount\n",
        "\n",
        "             def get_balance(self):\n",
        "                 return self.__balance\n"
      ],
      "metadata": {
        "id": "HCEKH9zP7wVb"
      }
    },
    {
      "cell_type": "markdown",
      "source": [
        "5. What are dunder methods in Python?\n",
        "\n",
        "  Ans: Dunder methods (short for \"double underscore\" methods) are special methods in Python that start and end with two underscores, like:\n",
        "\n",
        "        __init__ , __str__ , __len__ , __add__ , etc.\n",
        "These methods allow you to define how your objects behave with built-in operations (e.g., printing, addition, comparison)."
      ],
      "metadata": {
        "id": "4q8yKMOi7wR2"
      }
    },
    {
      "cell_type": "markdown",
      "source": [
        "6. Explain the concept of inheritance in OOP.\n",
        "\n",
        "  Ans: Inheritance is a core OOP concept that allows a class (child/derived class) to inherit properties and behaviors (attributes and methods) from another class (parent/base class).\n",
        "\n",
        "\n",
        "\n",
        "\n",
        "*   Promotes code reuse (DRY principle)\n",
        "*   Supports hierarchical classification (e.g., Animal → Mammal → Dog)\n",
        "\n",
        "\n",
        "*   Makes code easier to maintain and extend"
      ],
      "metadata": {
        "id": "0DTDekpA7wL4"
      }
    },
    {
      "cell_type": "markdown",
      "source": [
        "7. What is polymorphism in OOP?\n",
        "\n",
        "  Ans: Polymorphism comes from the Greek words poly (many) and morph (form), meaning \"many forms.\"\n",
        "In the context of OOP, polymorphism allows objects of different classes to be treated as if they were objects of a common superclass, especially when they implement the same method name but provide different behaviors.\n",
        "\n",
        "  Polymorphism enables you to write general-purpose code that works across different object types, as long as they share a common method interface. This concept improves code flexibility, scalability, and maintainability, making it easier to extend and modify your program without changing existing code."
      ],
      "metadata": {
        "id": "93DdB7Bf7wHN"
      }
    },
    {
      "cell_type": "markdown",
      "source": [
        "8.  How is encapsulation achieved in Python?\n",
        "\n",
        "  Ans: Encapsulation in Python is the process of hiding the internal state and data of an object and only allowing access through controlled interfaces (methods).\n",
        "This helps protect the data from accidental modification and enforces safe, clean code design.\n",
        "\n",
        "\n",
        "*   How Python Achieves Encapsulation:\n",
        "\n",
        "\n",
        "*   Private attributes: Use a double underscore __ prefix to make data \"private\"\n",
        "\n",
        "*   Protected attributes:\tUse a single underscore _ as a convention (not enforced)\n",
        "*   Getter/Setter methods:\tControl how values are read or modified"
      ],
      "metadata": {
        "id": "edrNxVh77v7s"
      }
    },
    {
      "cell_type": "markdown",
      "source": [
        "9. What is a constructor in Python?\n",
        "\n",
        "  Ans: In Python, a constructor is a special method used to initialize a newly created object from a class.\n",
        "It is automatically called as soon as an object is created, allowing you to set up the initial state (attributes) of the object.\n",
        "\n",
        "  When we create an object from a class, we often want it to start with some predefined values.\n",
        "The constructor helps us:\n",
        "\n",
        "*   Set initial values for object attributes\n",
        "\n",
        "*   Ensure all objects are created in a valid, consistent state\n",
        "*   Avoid manually assigning attributes after object creation"
      ],
      "metadata": {
        "id": "IsKABLPvF8FK"
      }
    },
    {
      "cell_type": "markdown",
      "source": [
        "10. What are class and static methods in Python?\n",
        "\n",
        "  Ans: **1. Class Method:** A class method works with the class itself, not with individual objects.\n",
        "It receives the class (cls) as the first argument instead of the object (self).\n",
        "\n",
        "\n",
        "*   You want to create alternative constructors\n",
        "*   You need to access or modify class-level attributes\n",
        "\n",
        "*   Syntax:\n",
        "        @classmethod\n",
        "        def method_name(cls):\n",
        "        # code\n",
        "  **2. Static Method:** A static method doesn’t take \"self\" or \"cls\" as the first argument.\n",
        "It doesn't depend on object or class-level data.\n",
        "\n",
        "\n",
        "*   You want a utility/helper function inside a class\n",
        "*   The function is logically related to the class, but doesn’t need access to class or instance\n",
        "\n",
        "*   Syntax:\n",
        "\n",
        "        @staticmethod\n",
        "        def method_name():\n",
        "            # code"
      ],
      "metadata": {
        "id": "kVNVMWbnF8CL"
      }
    },
    {
      "cell_type": "markdown",
      "source": [
        "11. What is method overloading in Python?\n",
        "\n",
        "  Ans: Method Overloading means defining multiple methods with the same name but different parameters (number or type).\n",
        "It allows a method to perform different tasks depending on how many or what kind of arguments are passed. This concept is common in many OOP languages like Java or C++, but in Python, true method overloading is not supported directly.\n",
        "\n",
        "  Python does not support multiple methods with the same name — the last defined method overrides the previous ones.\n",
        "\n",
        "  However, we can simulate method overloading using:\n",
        "\n",
        "*   Default arguments\n",
        "*   Variable-length arguments (*args, **kwargs)\n",
        "*   Manual type/argument checking"
      ],
      "metadata": {
        "id": "4Ufn8PedF79B"
      }
    },
    {
      "cell_type": "markdown",
      "source": [
        "12. What is method overriding in OOP?\n",
        "\n",
        "  Ans: Method overriding is a feature in OOP where a subclass (child class) provides a specific implementation of a method that is already defined in its superclass (parent class).\n",
        "\n",
        "  Key Concept:\n",
        "\n",
        "*   Same method name\n",
        "*   Same parameters\n",
        "*   Defined in both parent and child classes\n",
        "*   The child class \"overrides\" the parent’s version"
      ],
      "metadata": {
        "id": "QFDPq1u9F758"
      }
    },
    {
      "cell_type": "markdown",
      "source": [
        "13. What is a property decorator in Python?\n",
        "\n",
        "  Ans: In Python, the @property decorator is used to transform a class method into a property — meaning you can access a method like an attribute (without parentheses).\n",
        "\n",
        "  This feature is part of encapsulation, one of the pillars of Object-Oriented Programming (OOP), and it allows you to:\n",
        "\n",
        "*   Protect internal data\n",
        "*   Control how attributes are accessed or modified\n",
        "*   Keep the interface of your class clean and readable"
      ],
      "metadata": {
        "id": "6Dm5JHpqF72w"
      }
    },
    {
      "cell_type": "markdown",
      "source": [
        "14. Why is polymorphism important in OOP?\n",
        "\n",
        "  Ans: Here are key reasons why polymorphism plays a vital role in OOP:\n",
        "\n",
        "\n",
        "*   Improves Code Flexibility and Reusability:\n",
        "You can write general code that works with any class that follows a specific interface or method name, making your code reusable across different types.\n",
        "*   Supports Extensibility:\n",
        "You can easily add new classes (types) without changing existing code. As long as the new class implements the expected interface, it will fit right in.\n",
        "*   Enables Dynamic (Runtime) Behavior:\n",
        "Polymorphism supports dynamic dispatch, which means the method that gets executed is determined at runtime, not compile time. This is especially useful when working with collections of objects of different types, allowing flexible and dynamic program behavior.\n",
        "*   Encourages Interface-Based Design:\n",
        "Polymorphism encourages designing around behavior, not data type. This is a key to building loosely-coupled, modular systems, making large applications easier to manage and scale.\n",
        "*   Simplifies Code Maintenance:\n",
        "Since polymorphic code treats different objects in a uniform way, it's easier to maintain, debug, and extend over time."
      ],
      "metadata": {
        "id": "GIsnTWvSL64F"
      }
    },
    {
      "cell_type": "markdown",
      "source": [
        "15. What is an abstract class in Python?\n",
        "\n",
        "  Ans: An abstract class in Python is a class that cannot be instantiated on its own and is meant to be inherited by other classes. It often contains one or more abstract methods — methods that are declared but don’t have any implementation.\n",
        "\n",
        "  Think of it as a template or blueprint that defines what methods a subclass should implement, without defining how."
      ],
      "metadata": {
        "id": "umQhPXjpL6yx"
      }
    },
    {
      "cell_type": "markdown",
      "source": [
        "16. What are the advantages of OOP?\n",
        "\n",
        "  Ans: Key Advantages of OOP:\n",
        "\n",
        "*   Modularity:\tCode is organized into small, manageable parts.\n",
        "*   Reusability:\tInherit and reuse code instead of rewriting.\n",
        "*   Encapsulation:\tHides internal data and protects object state.\n",
        "*   Polymorphism:\tSame interface, different behaviors.\n",
        "*   Abstraction:\tOnly relevant details are exposed.\n",
        "*   Maintainability:\tEasier to debug, test, and extend.\n",
        "*   Scalability:\tGrows well with complexity.\n",
        "*   Real-World Mapping:\tObjects model real-life concepts and behaviors."
      ],
      "metadata": {
        "id": "0FZmYtJJL6up"
      }
    },
    {
      "cell_type": "markdown",
      "source": [
        "17. What is the difference between a class variable and an instance variable?\n",
        "\n",
        "  Ans: 1. Instance Variable:A variable that is unique to each object (instance) of a class.\n",
        "\n",
        "\n",
        "*   Defined inside a method, usually _ _ init _ _, using self.\n",
        "*   Belongs to the object, not the class.\n",
        "*   Belongs to the object, not the class.\n",
        "\n",
        "  2. Class Variable: A variable that is shared among all instances of a class.\n",
        "\n",
        "*   Defined inside the class, outside any method.\n",
        "*   Belongs to the class, not the individual objects.\n",
        "*   All objects share the same value, unless overridden in an instance."
      ],
      "metadata": {
        "id": "35nFfrvkL6iS"
      }
    },
    {
      "cell_type": "markdown",
      "source": [
        "18. What is multiple inheritance in Python?\n",
        "\n",
        "  Ans: Multiple Inheritance is a powerful feature in Python that allows a class to inherit attributes and methods from more than one parent class simultaneously.\n",
        "\n",
        "  This means a single class (called the child or subclass) can have access to the behaviors (methods) and properties (attributes) of multiple classes it derives from."
      ],
      "metadata": {
        "id": "qhBvcBTyL6ew"
      }
    },
    {
      "cell_type": "markdown",
      "source": [
        "19. Explain the purpose of ‘_ _ str _ _’ and ‘_ _ repr _ _’  methods in Python.\n",
        "\n",
        "  Ans: In Python, the _ _ str _ _() and _ _ repr _ _() are two special methods (also called dunder methods) used to define how an object is represented as a string.\n",
        "\n",
        "  They are automatically called when you print an object or inspect it in the console.\n",
        "\n",
        " 1. _ _ str _ _() → Human-Readable Representation:\n",
        "\n",
        "*   The _ _ str _ _ method is used to define the “informal” or “user-friendly” string representation of an object.\n",
        "*   It is what gets returned when you use str(obj) or print(obj).\n",
        "\n",
        "  2. _ _ repr _ _() → Developer-Friendly Representation:\n",
        "\n",
        "*   The _ _ repr _ _ method is used to define the “official” or “developer-friendly” string representation of an object.\n",
        "*   It is called by repr(obj) or when the object is displayed in the interactive interpreter.\n",
        "*   The goal is to return a string that can recreate the object (when possible)."
      ],
      "metadata": {
        "id": "IslUw4RpL6bh"
      }
    },
    {
      "cell_type": "markdown",
      "source": [
        "20. What is the significance of the ‘super()’ function in Python?\n",
        "\n",
        "  Ans: The super() function in Python is used to access methods or constructors from a parent (superclass) in a child class. It allows for code reuse and helps maintain the method resolution order (MRO) properly, especially in cases of inheritance or multiple inheritance.\n",
        "\n",
        "*  Call the parent class’s methods or constructor.\n",
        "*  Avoid duplicating code that already exists in the base class.\n",
        "*  Maintain the correct order of method calls, especially in multiple inheritance.\n",
        "*  Help with cooperative method calls in complex inheritance hierarchies."
      ],
      "metadata": {
        "id": "BypOxi_-L6XY"
      }
    },
    {
      "cell_type": "markdown",
      "source": [
        "21. What is the significance of the _ _ del _ _ method in Python?\n",
        "\n",
        "  Ans: The _ _ del _ _() method in Python is a special (dunder) method known as the destructor. It is automatically called when an object is about to be destroyed, typically when it goes out of scope or is explicitly deleted using the del keyword.\n",
        "\n",
        "*   To perform cleanup operations like:\n",
        "  \n",
        "  Closing files\n",
        "\n",
        "  Releasing memory or resources\n",
        "\n",
        "  Disconnecting from a database\n",
        "\n",
        "  Logging object destruction\n",
        "*   To customize what happens when an object is deleted from memory"
      ],
      "metadata": {
        "id": "VEXD1djnRRDA"
      }
    },
    {
      "cell_type": "markdown",
      "source": [
        "22. What is the difference between @staticmethod and @classmethod in Python?\n",
        "\n",
        "  Ans: Both @staticmethod and @classmethod are decorators in Python that define methods that are not regular instance methods, but they serve different purposes and behave differently.\n",
        "\n",
        "  1. @staticmethod:\n",
        "\n",
        "*    Purpose: Defines a method that does not depend on class or instance data.\n",
        "*   Key Characteristic:\n",
        "  \n",
        "  Takes no self or cls parameter.\n",
        "\n",
        "  Cannot access or modify class state.\n",
        "\n",
        "  Behaves like a plain function inside a class namespace.\n",
        "\n",
        "    2. @classmethod:\n",
        "\n",
        "\n",
        "*    Purpose: Defines a method that operates on the class itself, rather than on instances.\n",
        "*   Key Characteristics:\n",
        "\n",
        "  Takes cls as the first argument (refers to the class, not an instance).\n",
        "\n",
        "  Can access and modify class variables or class-level behavior.\n",
        "\n",
        "  Useful for alternative constructors or class-specific logic."
      ],
      "metadata": {
        "id": "R-HW0eX6RQ8G"
      }
    },
    {
      "cell_type": "markdown",
      "source": [
        "23. How does polymorphism work in Python with inheritance?\n",
        "\n",
        "  Ans: In Python, polymorphism works naturally with inheritance, enabling objects of different classes to be treated the same way if they share a common interface (usually through method names).\n",
        "\n",
        "    When a child class overrides a method from its parent class, and we call that method on different objects (even if they are treated as the parent), each object runs its own version of the method."
      ],
      "metadata": {
        "id": "ewYrJ5i_RQ0o"
      }
    },
    {
      "cell_type": "markdown",
      "source": [
        "24. What is method chaining in Python OOP?\n",
        "\n",
        "  Ans: Method chaining is a programming technique in object-oriented Python where multiple methods are called sequentially on the same object in a single line.\n",
        "Each method returns the object itself (self), allowing the next method to be called directly.\n",
        "\n",
        "*   Purpose:\n",
        "\n",
        "  Makes the code cleaner, shorter, and more readable\n",
        "\n",
        "  Common in fluent interfaces (e.g., Pandas, SQLAlchemy, Django QuerySets)"
      ],
      "metadata": {
        "id": "v1_7rMYPRQs3"
      }
    },
    {
      "cell_type": "markdown",
      "source": [
        "25.  What is the purpose of the _ _ call _ _ method in Python?\n",
        "\n",
        "  Ans: The __call__() method is a special (dunder) method in Python that allows an object to be called like a function.\n",
        "\n",
        "  When you define the __call__() method in a class, it enables instances of that class to be callable — i.e., you can use parentheses after the object name, just like calling a function."
      ],
      "metadata": {
        "id": "IC_eJwpXRQlg"
      }
    },
    {
      "cell_type": "markdown",
      "source": [
        "# Python OOPS (Practical)"
      ],
      "metadata": {
        "id": "K0Oe4pu-7kZW"
      }
    },
    {
      "cell_type": "markdown",
      "source": [
        "1. Create a parent class Animal with a method speak() that prints a generic message. Create a child class Dog that overrides the speak() method to print \"Bark!\"."
      ],
      "metadata": {
        "id": "08V2heWG_cDW"
      }
    },
    {
      "cell_type": "code",
      "source": [
        "# Parent class\n",
        "class Animal:\n",
        "    def speak(self):\n",
        "        print(\"The animal makes a sound.\")\n",
        "\n",
        "# Child class\n",
        "class Dog(Animal):\n",
        "    def speak(self):\n",
        "        print(\"Bark!\")\n",
        "\n",
        "# Create instances\n",
        "animal = Animal()\n",
        "dog = Dog()\n",
        "\n",
        "# Call speak method\n",
        "animal.speak()  # Output: The animal makes a sound.\n",
        "dog.speak()     # Output: Bark!"
      ],
      "metadata": {
        "id": "_5PTBacG7sO8",
        "colab": {
          "base_uri": "https://localhost:8080/"
        },
        "outputId": "b292083c-f776-43a9-bb92-0e4a874e2016"
      },
      "execution_count": 1,
      "outputs": [
        {
          "output_type": "stream",
          "name": "stdout",
          "text": [
            "The animal makes a sound.\n",
            "Bark!\n"
          ]
        }
      ]
    },
    {
      "cell_type": "markdown",
      "source": [
        "2. Write a program to create an abstract class Shape with a method area(). Derive classes Circle and Rectangle\n",
        "from it and implement the area() method in both."
      ],
      "metadata": {
        "id": "lE7jBXiP7zTz"
      }
    },
    {
      "cell_type": "code",
      "source": [
        "from abc import ABC, abstractmethod\n",
        "import math\n",
        "\n",
        "# Abstract base class\n",
        "class Shape(ABC):\n",
        "    @abstractmethod\n",
        "    def area(self):\n",
        "        pass\n",
        "\n",
        "# Derived class: Circle\n",
        "class Circle(Shape):\n",
        "    def __init__(self, radius):\n",
        "        self.radius = radius\n",
        "\n",
        "    def area(self):\n",
        "        return math.pi * self.radius * self.radius\n",
        "\n",
        "# Derived class: Rectangle\n",
        "class Rectangle(Shape):\n",
        "    def __init__(self, width, height):\n",
        "        self.width = width\n",
        "        self.height = height\n",
        "\n",
        "    def area(self):\n",
        "        return self.width * self.height\n",
        "\n",
        "# Create instances and print areas\n",
        "circle = Circle(5)\n",
        "rectangle = Rectangle(4, 6)\n",
        "\n",
        "print(\"Area of circle:\", circle.area())\n",
        "print(\"Area of rectangle:\", rectangle.area())"
      ],
      "metadata": {
        "id": "0rtF8hD-74m0",
        "colab": {
          "base_uri": "https://localhost:8080/"
        },
        "outputId": "314ac3a6-1930-435a-9a94-428fc6c85cb3"
      },
      "execution_count": 2,
      "outputs": [
        {
          "output_type": "stream",
          "name": "stdout",
          "text": [
            "Area of circle: 78.53981633974483\n",
            "Area of rectangle: 24\n"
          ]
        }
      ]
    },
    {
      "cell_type": "markdown",
      "source": [
        "3. Implement a multi-level inheritance scenario where a class Vehicle has an attribute type. Derive a class Car\n",
        "and further derive a class ElectricCar that adds a battery attribute"
      ],
      "metadata": {
        "id": "J_oZtJ3k8I1s"
      }
    },
    {
      "cell_type": "code",
      "source": [
        "# Base class\n",
        "class Vehicle:\n",
        "    def __init__(self, vehicle_type):\n",
        "        self.type = vehicle_type\n",
        "\n",
        "    def display_info(self):\n",
        "        print(f\"Vehicle Type: {self.type}\")\n",
        "\n",
        "# Derived class from Vehicle\n",
        "class Car(Vehicle):\n",
        "    def __init__(self, vehicle_type, brand):\n",
        "        super().__init__(vehicle_type)\n",
        "        self.brand = brand\n",
        "\n",
        "    def display_info(self):\n",
        "        super().display_info()\n",
        "        print(f\"Car Brand: {self.brand}\")\n",
        "\n",
        "# Further derived class from Car\n",
        "class ElectricCar(Car):\n",
        "    def __init__(self, vehicle_type, brand, battery):\n",
        "        super().__init__(vehicle_type, brand)\n",
        "        self.battery = battery\n",
        "\n",
        "    def display_info(self):\n",
        "        super().display_info()\n",
        "        print(f\"Battery Capacity: {self.battery} kWh\")\n",
        "\n",
        "ecar = ElectricCar(\"Four-wheeler\", \"Tesla\", 75)\n",
        "ecar.display_info()"
      ],
      "metadata": {
        "id": "3AAd1JN38N28",
        "colab": {
          "base_uri": "https://localhost:8080/"
        },
        "outputId": "f41aa6c6-c3f4-4d5a-a428-daef98aa2fdd"
      },
      "execution_count": 21,
      "outputs": [
        {
          "output_type": "stream",
          "name": "stdout",
          "text": [
            "Vehicle Type: Four-wheeler\n",
            "Car Brand: Tesla\n",
            "Battery Capacity: 75 kWh\n"
          ]
        }
      ]
    },
    {
      "cell_type": "markdown",
      "source": [
        "4. Demonstrate polymorphism by creating a base class Bird with a method fly(). Create two derived classes\n",
        "Sparrow and Penguin that override the fly() method.\n"
      ],
      "metadata": {
        "id": "9fq_6Vkb8VSk"
      }
    },
    {
      "cell_type": "code",
      "source": [
        "# Base class\n",
        "class Bird:\n",
        "    def fly(self):\n",
        "        print(\"Bird is flying.\")\n",
        "\n",
        "# Derived class: Sparrow\n",
        "class Sparrow(Bird):\n",
        "    def fly(self):\n",
        "        print(\"Sparrow flies high in the sky.\")\n",
        "\n",
        "# Derived class: Penguin\n",
        "class Penguin(Bird):\n",
        "    def fly(self):\n",
        "        print(\"Penguins can't fly, they swim.\")\n",
        "\n",
        "# Polymorphism in action\n",
        "def bird_flight(bird):\n",
        "    bird.fly()\n",
        "\n",
        "# Create instances\n",
        "sparrow = Sparrow()\n",
        "penguin = Penguin()\n",
        "\n",
        "# Call fly() using polymorphism\n",
        "bird_flight(sparrow)   # Output: Sparrow flies high in the sky.\n",
        "bird_flight(penguin)   # Output: Penguins can't fly, they swim."
      ],
      "metadata": {
        "id": "O0YNYa7r8Z2E",
        "colab": {
          "base_uri": "https://localhost:8080/"
        },
        "outputId": "d28ba891-6160-4e2c-b7c4-09fc7d1288fa"
      },
      "execution_count": 5,
      "outputs": [
        {
          "output_type": "stream",
          "name": "stdout",
          "text": [
            "Sparrow flies high in the sky.\n",
            "Penguins can't fly, they swim.\n"
          ]
        }
      ]
    },
    {
      "cell_type": "markdown",
      "source": [
        "5. Write a program to demonstrate encapsulation by creating a class BankAccount with private attributes\n",
        "balance and methods to deposit, withdraw, and check balance."
      ],
      "metadata": {
        "id": "yOPX-5uT8fXs"
      }
    },
    {
      "cell_type": "code",
      "source": [
        "class BankAccount:\n",
        "    def __init__(self, initial_balance=0):\n",
        "        self.__balance = initial_balance  # private attribute\n",
        "\n",
        "    # Method to deposit money\n",
        "    def deposit(self, amount):\n",
        "        if amount > 0:\n",
        "            self.__balance += amount\n",
        "            print(f\"Deposited: ₹{amount}\")\n",
        "        else:\n",
        "            print(\"Invalid deposit amount.\")\n",
        "\n",
        "    # Method to withdraw money\n",
        "    def withdraw(self, amount):\n",
        "        if 0 < amount <= self.__balance:\n",
        "            self.__balance -= amount\n",
        "            print(f\"Withdrew: ₹{amount}\")\n",
        "        else:\n",
        "            print(\"Insufficient balance or invalid amount.\")\n",
        "\n",
        "    # Method to check balance\n",
        "    def check_balance(self):\n",
        "        print(f\"Current Balance: ₹{self.__balance}\")\n",
        "\n",
        "# Using the BankAccount class\n",
        "account = BankAccount(1000)  # Starting with ₹1000\n",
        "\n",
        "account.check_balance()      # Output: Current Balance: ₹1000\n",
        "account.deposit(500)         # Output: Deposited: ₹500\n",
        "account.withdraw(300)        # Output: Withdrew: ₹300\n",
        "account.check_balance()      # Output: Current Balance: ₹1200"
      ],
      "metadata": {
        "id": "VPOHreZE8kI0",
        "colab": {
          "base_uri": "https://localhost:8080/"
        },
        "outputId": "856411fc-ea9f-47c0-f399-63eff1500219"
      },
      "execution_count": 6,
      "outputs": [
        {
          "output_type": "stream",
          "name": "stdout",
          "text": [
            "Current Balance: ₹1000\n",
            "Deposited: ₹500\n",
            "Withdrew: ₹300\n",
            "Current Balance: ₹1200\n"
          ]
        }
      ]
    },
    {
      "cell_type": "markdown",
      "source": [
        "6. Demonstrate runtime polymorphism using a method play() in a base class Instrument. Derive classes Guitar\n",
        "and Piano that implement their own version of play()."
      ],
      "metadata": {
        "id": "xMCx7oRY8sOl"
      }
    },
    {
      "cell_type": "code",
      "source": [
        "# Base class\n",
        "class Instrument:\n",
        "    def play(self):\n",
        "        print(\"Playing an instrument.\")\n",
        "\n",
        "# Derived class: Guitar\n",
        "class Guitar(Instrument):\n",
        "    def play(self):\n",
        "        print(\"Strumming the guitar.\")\n",
        "\n",
        "# Derived class: Piano\n",
        "class Piano(Instrument):\n",
        "    def play(self):\n",
        "        print(\"Playing the piano.\")\n",
        "\n",
        "# Function to demonstrate runtime polymorphism\n",
        "def start_playing(instrument):\n",
        "    instrument.play()\n",
        "\n",
        "# Create instances\n",
        "guitar = Guitar()\n",
        "piano = Piano()\n",
        "\n",
        "# Runtime polymorphism in action\n",
        "start_playing(guitar)  # Output: Strumming the guitar.\n",
        "start_playing(piano)   # Output: Playing the piano."
      ],
      "metadata": {
        "id": "d2RhTIRg82zU",
        "colab": {
          "base_uri": "https://localhost:8080/"
        },
        "outputId": "a9fc8151-0c5c-43ee-fed5-9156173a1d5c"
      },
      "execution_count": 7,
      "outputs": [
        {
          "output_type": "stream",
          "name": "stdout",
          "text": [
            "Strumming the guitar.\n",
            "Playing the piano.\n"
          ]
        }
      ]
    },
    {
      "cell_type": "markdown",
      "source": [
        "7. Create a class MathOperations with a class method add_numbers() to add two numbers and a static\n",
        "method subtract_numbers() to subtract two numbers"
      ],
      "metadata": {
        "id": "kJyi06pR8-M7"
      }
    },
    {
      "cell_type": "code",
      "source": [
        "class MathOperations:\n",
        "    # Class method to add two numbers\n",
        "    @classmethod\n",
        "    def add_numbers(cls, a, b):\n",
        "        return a + b\n",
        "\n",
        "    # Static method to subtract two numbers\n",
        "    @staticmethod\n",
        "    def subtract_numbers(a, b):\n",
        "        return a - b\n",
        "\n",
        "# Using the class method\n",
        "sum_result = MathOperations.add_numbers(10, 5)\n",
        "print(\"Sum:\", sum_result)  # Output: Sum: 15\n",
        "\n",
        "# Using the static method\n",
        "diff_result = MathOperations.subtract_numbers(10, 5)\n",
        "print(\"Difference:\", diff_result)  # Output: Difference: 5"
      ],
      "metadata": {
        "id": "X4hE4TQQ9CwE",
        "colab": {
          "base_uri": "https://localhost:8080/"
        },
        "outputId": "ec8c3ce6-bda6-4e20-b4fa-c21878772ef5"
      },
      "execution_count": 8,
      "outputs": [
        {
          "output_type": "stream",
          "name": "stdout",
          "text": [
            "Sum: 15\n",
            "Difference: 5\n"
          ]
        }
      ]
    },
    {
      "cell_type": "markdown",
      "source": [
        "8.  Implement a class Person with a class method to count the total number of persons created."
      ],
      "metadata": {
        "id": "zJZTYAyz9Jqk"
      }
    },
    {
      "cell_type": "code",
      "source": [
        "class Person:\n",
        "    count = 0  # Class variable to track the number of persons\n",
        "\n",
        "    def __init__(self, name):\n",
        "        self.name = name\n",
        "        Person.count += 1  # Increment count whenever a new object is created\n",
        "\n",
        "    @classmethod\n",
        "    def total_persons(cls):\n",
        "        return cls.count\n",
        "\n",
        "# Creating Person objects\n",
        "p1 = Person(\"Alice\")\n",
        "p2 = Person(\"Bob\")\n",
        "p3 = Person(\"Charlie\")\n",
        "\n",
        "# Getting total number of persons created\n",
        "print(\"Total persons created:\", Person.total_persons())"
      ],
      "metadata": {
        "id": "3GGPWZM49Osb",
        "colab": {
          "base_uri": "https://localhost:8080/"
        },
        "outputId": "83db30aa-38e3-49d1-a431-a1ab34ed6471"
      },
      "execution_count": 9,
      "outputs": [
        {
          "output_type": "stream",
          "name": "stdout",
          "text": [
            "Total persons created: 3\n"
          ]
        }
      ]
    },
    {
      "cell_type": "markdown",
      "source": [
        "9. Write a class Fraction with attributes numerator and denominator. Override the str method to display the\n",
        "fraction as \"numerator/denominator\"."
      ],
      "metadata": {
        "id": "U1uPHTxF9Wzj"
      }
    },
    {
      "cell_type": "code",
      "source": [
        "class Fraction:\n",
        "    def __init__(self, numerator, denominator):\n",
        "        self.numerator = numerator\n",
        "        self.denominator = denominator\n",
        "\n",
        "    # Override the __str__ method\n",
        "    def __str__(self):\n",
        "        return f\"{self.numerator}/{self.denominator}\"\n",
        "\n",
        "# Create Fraction instances\n",
        "f1 = Fraction(3, 4)\n",
        "f2 = Fraction(5, 8)\n",
        "\n",
        "# Print the fractions\n",
        "print(f1)  # Output: 3/4\n",
        "print(f2)  # Output: 5/8"
      ],
      "metadata": {
        "id": "QxSszEoD9a6z",
        "colab": {
          "base_uri": "https://localhost:8080/"
        },
        "outputId": "b4db9a90-4df8-490c-ba06-cafad82663ce"
      },
      "execution_count": 10,
      "outputs": [
        {
          "output_type": "stream",
          "name": "stdout",
          "text": [
            "3/4\n",
            "5/8\n"
          ]
        }
      ]
    },
    {
      "cell_type": "markdown",
      "source": [
        "10. Demonstrate operator overloading by creating a class Vector and overriding the add method to add two\n",
        "vectors."
      ],
      "metadata": {
        "id": "jigeuYNw9gkT"
      }
    },
    {
      "cell_type": "code",
      "source": [
        "class Vector:\n",
        "    def __init__(self, x, y):\n",
        "        self.x = x\n",
        "        self.y = y\n",
        "\n",
        "    # Overload the + operator\n",
        "    def __add__(self, other):\n",
        "        return Vector(self.x + other.x, self.y + other.y)\n",
        "\n",
        "    # For readable output\n",
        "    def __str__(self):\n",
        "        return f\"Vector({self.x}, {self.y})\"\n",
        "\n",
        "# Create two vector instances\n",
        "v1 = Vector(2, 3)\n",
        "v2 = Vector(4, 5)\n",
        "\n",
        "# Add the vectors using the overloaded + operator\n",
        "result = v1 + v2\n",
        "\n",
        "# Display the result\n",
        "print(\"Resultant Vector:\", result)  # Output: Vector(6, 8)"
      ],
      "metadata": {
        "id": "EvUgcBsg9qOb",
        "colab": {
          "base_uri": "https://localhost:8080/"
        },
        "outputId": "75905c64-ed69-4301-c047-6c7d9565495b"
      },
      "execution_count": 11,
      "outputs": [
        {
          "output_type": "stream",
          "name": "stdout",
          "text": [
            "Resultant Vector: Vector(6, 8)\n"
          ]
        }
      ]
    },
    {
      "cell_type": "markdown",
      "source": [
        "11. Create a class Person with attributes name and age. Add a method greet() that prints \"Hello, my name is\n",
        "{name} and I am {age} years old.\""
      ],
      "metadata": {
        "id": "w4voNRIM9wmb"
      }
    },
    {
      "cell_type": "code",
      "source": [
        "class Person:\n",
        "    def __init__(self, name, age):\n",
        "        self.name = name\n",
        "        self.age = age\n",
        "\n",
        "    def greet(self):\n",
        "        print(f\"Hello, my name is {self.name} and I am {self.age} years old.\")\n",
        "\n",
        "# Create a Person instance\n",
        "person1 = Person(\"Alice\", 25)\n",
        "\n",
        "# Call the greet method\n",
        "person1.greet()"
      ],
      "metadata": {
        "id": "3V-UVwT190Dz",
        "colab": {
          "base_uri": "https://localhost:8080/"
        },
        "outputId": "b49a50a7-5571-46cb-c4d7-fe33ca8f3a5c"
      },
      "execution_count": 12,
      "outputs": [
        {
          "output_type": "stream",
          "name": "stdout",
          "text": [
            "Hello, my name is Alice and I am 25 years old.\n"
          ]
        }
      ]
    },
    {
      "cell_type": "markdown",
      "source": [
        "12. Implement a class Student with attributes name and grades. Create a method average_grade() to compute\n",
        "the average of the grades."
      ],
      "metadata": {
        "id": "C5Yl7SRR95iF"
      }
    },
    {
      "cell_type": "code",
      "source": [
        "class Student:\n",
        "    def __init__(self, name, grades):\n",
        "        self.name = name\n",
        "        self.grades = grades  # List of grades\n",
        "\n",
        "    def average_grade(self):\n",
        "        if not self.grades:\n",
        "            return 0\n",
        "        return sum(self.grades) / len(self.grades)\n",
        "\n",
        "# Create a Student instance\n",
        "student1 = Student(\"John\", [85, 90, 78, 92])\n",
        "\n",
        "# Print the average grade\n",
        "print(f\"{student1.name}'s average grade is: {student1.average_grade():.2f}\")"
      ],
      "metadata": {
        "id": "jLxEpb3U-AKk",
        "colab": {
          "base_uri": "https://localhost:8080/"
        },
        "outputId": "3a0a8273-96b2-4692-b937-c95a6dbacae1"
      },
      "execution_count": 13,
      "outputs": [
        {
          "output_type": "stream",
          "name": "stdout",
          "text": [
            "John's average grade is: 86.25\n"
          ]
        }
      ]
    },
    {
      "cell_type": "markdown",
      "source": [
        "13. Create a class Rectangle with methods set_dimensions() to set the dimensions and area() to calculate the\n",
        "area."
      ],
      "metadata": {
        "id": "H-rcWW7h-GfT"
      }
    },
    {
      "cell_type": "code",
      "source": [
        "class Rectangle:\n",
        "    def __init__(self):\n",
        "        self.length = 0\n",
        "        self.width = 0\n",
        "\n",
        "    # Method to set dimensions\n",
        "    def set_dimensions(self, length, width):\n",
        "        self.length = length\n",
        "        self.width = width\n",
        "\n",
        "    # Method to calculate area\n",
        "    def area(self):\n",
        "        return self.length * self.width\n",
        "\n",
        "# Create a Rectangle instance\n",
        "rect = Rectangle()\n",
        "\n",
        "# Set dimensions\n",
        "rect.set_dimensions(5, 10)\n",
        "\n",
        "# Print area\n",
        "print(\"Area of rectangle:\", rect.area())  # Output: 50"
      ],
      "metadata": {
        "id": "fFo60Wl_-K3M",
        "colab": {
          "base_uri": "https://localhost:8080/"
        },
        "outputId": "761a132e-c31b-4d76-eb9e-ccad02510c93"
      },
      "execution_count": 14,
      "outputs": [
        {
          "output_type": "stream",
          "name": "stdout",
          "text": [
            "Area of rectangle: 50\n"
          ]
        }
      ]
    },
    {
      "cell_type": "markdown",
      "source": [
        "14. Create a class Employee with a method calculate_salary() that computes the salary based on hours worked\n",
        "and hourly rate. Create a derived class Manager that adds a bonus to the salary."
      ],
      "metadata": {
        "id": "_EqDUiBK-SVF"
      }
    },
    {
      "cell_type": "code",
      "source": [
        "class Employee:\n",
        "    def __init__(self, name, hours_worked, hourly_rate):\n",
        "        self.name = name\n",
        "        self.hours_worked = hours_worked\n",
        "        self.hourly_rate = hourly_rate\n",
        "\n",
        "    def calculate_salary(self):\n",
        "        return self.hours_worked * self.hourly_rate\n",
        "\n",
        "# Derived class\n",
        "class Manager(Employee):\n",
        "    def __init__(self, name, hours_worked, hourly_rate, bonus):\n",
        "        super().__init__(name, hours_worked, hourly_rate)\n",
        "        self.bonus = bonus\n",
        "\n",
        "    def calculate_salary(self):\n",
        "        base_salary = super().calculate_salary()\n",
        "        return base_salary + self.bonus\n",
        "\n",
        "# Create Employee and Manager objects\n",
        "emp = Employee(\"Alice\", 40, 20)\n",
        "mgr = Manager(\"Bob\", 40, 30, 500)\n",
        "\n",
        "# Display salaries\n",
        "print(f\"{emp.name}'s Salary: ₹{emp.calculate_salary()}\")  # Output: ₹800\n",
        "print(f\"{mgr.name}'s Salary: ₹{mgr.calculate_salary()}\")  # Output: ₹1700"
      ],
      "metadata": {
        "id": "LR6bOlXh-W6x",
        "colab": {
          "base_uri": "https://localhost:8080/"
        },
        "outputId": "e793243e-c723-496d-a127-865ad6d315dc"
      },
      "execution_count": 15,
      "outputs": [
        {
          "output_type": "stream",
          "name": "stdout",
          "text": [
            "Alice's Salary: ₹800\n",
            "Bob's Salary: ₹1700\n"
          ]
        }
      ]
    },
    {
      "cell_type": "markdown",
      "source": [
        "15. Create a class Product with attributes name, price, and quantity. Implement a method total_price() that\n",
        "calculates the total price of the product."
      ],
      "metadata": {
        "id": "m4QkDUHp-jIK"
      }
    },
    {
      "cell_type": "code",
      "source": [
        "class Product:\n",
        "    def __init__(self, name, price, quantity):\n",
        "        self.name = name\n",
        "        self.price = price\n",
        "        self.quantity = quantity\n",
        "\n",
        "    # Method to calculate total price\n",
        "    def total_price(self):\n",
        "        return self.price * self.quantity\n",
        "\n",
        "# Create a Product instance\n",
        "product1 = Product(\"Laptop\", 50000, 2)\n",
        "\n",
        "# Display total price\n",
        "print(f\"Product: {product1.name}\")\n",
        "print(f\"Total Price: ₹{product1.total_price()}\")"
      ],
      "metadata": {
        "id": "4NmU6I_V-qlu",
        "colab": {
          "base_uri": "https://localhost:8080/"
        },
        "outputId": "2e7bba56-1cbd-4577-b354-273be605ca06"
      },
      "execution_count": 16,
      "outputs": [
        {
          "output_type": "stream",
          "name": "stdout",
          "text": [
            "Product: Laptop\n",
            "Total Price: ₹100000\n"
          ]
        }
      ]
    },
    {
      "cell_type": "markdown",
      "source": [
        "16. Create a class Animal with an abstract method sound(). Create two derived classes Cow and Sheep that\n",
        "implement the sound() method."
      ],
      "metadata": {
        "id": "KrVsXePB-x_v"
      }
    },
    {
      "cell_type": "code",
      "source": [
        "from abc import ABC, abstractmethod\n",
        "\n",
        "# Abstract base class\n",
        "class Animal(ABC):\n",
        "    @abstractmethod\n",
        "    def sound(self):\n",
        "        pass\n",
        "\n",
        "# Derived class: Cow\n",
        "class Cow(Animal):\n",
        "    def sound(self):\n",
        "        return \"Moo\"\n",
        "\n",
        "# Derived class: Sheep\n",
        "class Sheep(Animal):\n",
        "    def sound(self):\n",
        "        return \"Baa\"\n",
        "\n",
        "# Create instances\n",
        "cow = Cow()\n",
        "sheep = Sheep()\n",
        "\n",
        "# Call the sound method\n",
        "print(\"Cow says:\", cow.sound())     # Output: Moo\n",
        "print(\"Sheep says:\", sheep.sound()) # Output: Baa"
      ],
      "metadata": {
        "id": "clHvk4F8-2LT",
        "colab": {
          "base_uri": "https://localhost:8080/"
        },
        "outputId": "95134700-4839-4b0c-f5e5-7304df2c5b41"
      },
      "execution_count": 17,
      "outputs": [
        {
          "output_type": "stream",
          "name": "stdout",
          "text": [
            "Cow says: Moo\n",
            "Sheep says: Baa\n"
          ]
        }
      ]
    },
    {
      "cell_type": "markdown",
      "source": [
        "17. Create a class Book with attributes title, author, and year_published. Add a method get_book_info() that\n",
        "returns a formatted string with the book's details."
      ],
      "metadata": {
        "id": "iEPIA2sg-8VM"
      }
    },
    {
      "cell_type": "code",
      "source": [
        "class Book:\n",
        "    def __init__(self, title, author, year_published):\n",
        "        self.title = title\n",
        "        self.author = author\n",
        "        self.year_published = year_published\n",
        "\n",
        "    # Method to return book information\n",
        "    def get_book_info(self):\n",
        "        return f\"'{self.title}' by {self.author}, published in {self.year_published}\"\n",
        "\n",
        "# Create a Book instance\n",
        "book1 = Book(\"To Kill a Mockingbird\", \"Harper Lee\", 1960)\n",
        "\n",
        "# Display book information\n",
        "print(book1.get_book_info())"
      ],
      "metadata": {
        "id": "LIGjeJbd_BtE",
        "colab": {
          "base_uri": "https://localhost:8080/"
        },
        "outputId": "b2b1adbe-af58-43c7-ea28-e8a1ccad11b8"
      },
      "execution_count": 18,
      "outputs": [
        {
          "output_type": "stream",
          "name": "stdout",
          "text": [
            "'To Kill a Mockingbird' by Harper Lee, published in 1960\n"
          ]
        }
      ]
    },
    {
      "cell_type": "markdown",
      "source": [
        "18. Create a class House with attributes address and price. Create a derived class Mansion that adds an\n",
        "attribute number_of_rooms"
      ],
      "metadata": {
        "id": "6fc9wxcj_HmB"
      }
    },
    {
      "cell_type": "code",
      "source": [
        "# Base class\n",
        "class House:\n",
        "    def __init__(self, address, price):\n",
        "        self.address = address\n",
        "        self.price = price\n",
        "\n",
        "# Derived class\n",
        "class Mansion(House):\n",
        "    def __init__(self, address, price, number_of_rooms):\n",
        "        super().__init__(address, price)\n",
        "        self.number_of_rooms = number_of_rooms\n",
        "\n",
        "# Create an instance of Mansion\n",
        "mansion1 = Mansion(\"45 Elite Avenue\", 50000000, 10)\n",
        "\n",
        "# Display mansion details\n",
        "print(\"Address:\", mansion1.address)\n",
        "print(\"Price: ₹\", mansion1.price)\n",
        "print(\"Number of Rooms:\", mansion1.number_of_rooms)"
      ],
      "metadata": {
        "id": "2ZQECTEU_K7B",
        "colab": {
          "base_uri": "https://localhost:8080/"
        },
        "outputId": "1770c02a-c867-4371-e2d1-82e827f32bdb"
      },
      "execution_count": 19,
      "outputs": [
        {
          "output_type": "stream",
          "name": "stdout",
          "text": [
            "Address: 45 Elite Avenue\n",
            "Price: ₹ 50000000\n",
            "Number of Rooms: 10\n"
          ]
        }
      ]
    }
  ]
}